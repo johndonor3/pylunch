{
 "cells": [
  {
   "cell_type": "code",
   "execution_count": null,
   "metadata": {},
   "outputs": [],
   "source": [
    "from matplotlib import pyplot as plt\n",
    "from mpl_toolkits.mplot3d import Axes3D\n",
    "import numpy as np\n",
    "import math as math"
   ]
  },
  {
   "cell_type": "code",
   "execution_count": null,
   "metadata": {},
   "outputs": [],
   "source": [
    "# reading data in from the file\n",
    "data = np.genfromtxt(\"hlist_1.00000.names\", names=True, dtype=None)\n",
    "\n",
    "# printing out the column names (Dr. B prefers astropy for this!)\n",
    "data.dtype"
   ]
  },
  {
   "cell_type": "code",
   "execution_count": null,
   "metadata": {},
   "outputs": [],
   "source": [
    "#### Plotting a set of points in 3D\n",
    "\n",
    "fig = plt.figure(figsize=(10,10))\n",
    "\n",
    "ax = fig.add_subplot(111, projection='3d')\n",
    "\n",
    "### plotting a scatter plot, play with the color and size of the points as well as the alpha\n",
    "ax.scatter(data['x'], data['y'], data['z'])  \n",
    "\n",
    "# note with the right point size and alpha you can start to see the large scale structure of the simulation!\n",
    "\n",
    "# add labels to the axis (each is in units of Mpc/h)\n",
    "\n",
    "plt.show()"
   ]
  },
  {
   "cell_type": "code",
   "execution_count": null,
   "metadata": {},
   "outputs": [],
   "source": [
    "# the plot we made above is awesome, but its also a bit of a mess\n",
    "# If we want to know about the distribution of the satellite halos around\n",
    "# the most massive halo in the simulation we need to modify the data a bit\n",
    "\n",
    "# recenter data around the most massive halo (which is also the first row in the data set)\n",
    "# and removed the central halo\n",
    "x = data['x'][:-1] - data['x'][0]\n",
    "y = data['y'][:-1] - data['y'][0]\n",
    "z = data['z'][:-1] - data['z'][0]\n",
    "\n",
    "# calculate distance of each of these halos to the central halo\n",
    "d = np.sqrt(x*x + y*y + z*z)\n",
    "\n",
    "# select only halos with are within the radius of the main halo\n",
    "# make sure to check your units! \n",
    "# Your final x, y and z should be in the \n",
    "d = 1000.0*d\n",
    "\n",
    "satellite_mask = d < data['rvir'][0]\n",
    "\n",
    "x_sat = 1000.0*x[satellite_mask]\n",
    "y_sat = 1000.0*y[satellite_mask]\n",
    "z_sat = 1000.0*z[satellite_mask]"
   ]
  },
  {
   "cell_type": "code",
   "execution_count": null,
   "metadata": {},
   "outputs": [],
   "source": [
    "# Now we plot only the satellite halos\n",
    "fig = plt.figure(figsize=(10,10))\n",
    "\n",
    "ax = fig.add_subplot(111, projection='3d')\n",
    "\n",
    "### plotting a scatter plot, play with the color and size of the points as well as the alpha\n",
    "ax.scatter(x_sat, y_sat, z_sat)  \n",
    "\n",
    "# the masses of these halos are given by data['mvir'] and the size of the halo is data['rvir'] \n",
    "# and the approximate size of the stellar and gas content is data['rs']\n",
    "# the maximum mass a halo has is data['Mpeak'] or data['Vpeak']\n",
    "# Use this information to play around with coloring the point by one variable and sizes them with another.\n",
    "\n",
    "# NOTE: You will need to mask any data that you use and remove the central halo\n",
    "\n",
    "# For extra fun, go back and play with this in the original plot\n",
    "\n",
    "# add labels to the axis (each is in units of kpc/h)\n",
    "\n",
    "plt.show()"
   ]
  },
  {
   "cell_type": "code",
   "execution_count": null,
   "metadata": {},
   "outputs": [],
   "source": [
    "# We are now going to play with plotting a scatter plot ontop of contours.\n",
    "\n",
    "# First we need to define a function\n",
    "def profile(r,rs,rho_o):\n",
    "    denom = r/rs*(1.0+r/rs)**2.0\n",
    "    return rho_o/denom\n",
    "\n",
    "## If you want to run the function on a vector\n",
    "profile = np.vectorize(profile)"
   ]
  },
  {
   "cell_type": "code",
   "execution_count": null,
   "metadata": {},
   "outputs": [],
   "source": [
    "# Getting the central density value for the largest halo\n",
    "\n",
    "c = data['rvir'][0]/data['rs'][0]\n",
    "rho_o = data['mvir'][0]/(4.0*math.pi*data['rs'][0]**3.0*(np.log(1+c)-c/(1+c)))\n",
    "\n",
    "x_den = np.linspace(-400,400,400)\n",
    "y_den = np.linspace(-400,400,400)\n",
    "x_den, y_den = np.meshgrid(y_den, x_den)\n",
    "r = np.sqrt(x_den**2.0 + y_den**2.0)\n",
    "\n",
    "density = profile(r,data['rs'][0],rho_o)"
   ]
  },
  {
   "cell_type": "code",
   "execution_count": null,
   "metadata": {},
   "outputs": [],
   "source": [
    "### To give you a sense of what the density profile looks like we will do a quick and dirty plot\n",
    "\n",
    "r_test = np.logspace(-3,2.3,1000)\n",
    "den = profile(r_test,data['rs'][0],rho_o)\n",
    "\n",
    "plt.plot(r_test,den)\n",
    "plt.xscale('log')\n",
    "plt.yscale('log')\n",
    "plt.show()"
   ]
  },
  {
   "cell_type": "code",
   "execution_count": null,
   "metadata": {
    "scrolled": true
   },
   "outputs": [],
   "source": [
    "# Now we plot the contours  \n",
    "fig = plt.figure(figsize=(10,10))\n",
    "\n",
    "ax = fig.add_subplot(111)\n",
    "\n",
    "## we know we need to plot the contour of the *log* values of the density\n",
    "ax.contourf(x_den, y_den, np.log10(density),10,cmap=\"Purples\")\n",
    "## location of the central halo\n",
    "#ax.scatter(data['x'][0]-data['x'][0],data['y'][0]-data['y'][0],s=20,c='k')\n",
    "\n",
    "plt.show()\n",
    "# Label the axis and play with the levels and color bar.\n",
    "# Play around with x and y limits of the contour plot to zoom in or out of certain regions"
   ]
  },
  {
   "cell_type": "code",
   "execution_count": null,
   "metadata": {},
   "outputs": [],
   "source": [
    "# Challenge, plot a 2D projection of the distribution of the satellite population over the density contours\n",
    "# To play some more, compare what things look like with difference mass cuts for the satellite population"
   ]
  }
 ],
 "metadata": {
  "kernelspec": {
   "display_name": "Python 3",
   "language": "python",
   "name": "python3"
  },
  "language_info": {
   "codemirror_mode": {
    "name": "ipython",
    "version": 3
   },
   "file_extension": ".py",
   "mimetype": "text/x-python",
   "name": "python",
   "nbconvert_exporter": "python",
   "pygments_lexer": "ipython3",
   "version": "3.6.5"
  }
 },
 "nbformat": 4,
 "nbformat_minor": 2
}
