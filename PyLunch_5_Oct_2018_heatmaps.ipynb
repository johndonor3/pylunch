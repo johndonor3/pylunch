{
 "cells": [
  {
   "cell_type": "code",
   "execution_count": null,
   "metadata": {
    "collapsed": true
   },
   "outputs": [],
   "source": [
    "from matplotlib import pyplot as plt\n",
    "from mpl_toolkits.mplot3d import Axes3D\n",
    "import numpy as np"
   ]
  },
  {
   "cell_type": "code",
   "execution_count": null,
   "metadata": {},
   "outputs": [],
   "source": [
    "# names=True means expect column names as the first line\n",
    "# dtype=None means let numpy figure out the dataype\n",
    "# notice in the new file all the comments were taken out\n",
    "# the comments were confusing numpy, they may also have been removed with a \n",
    "# skiplines keyword, but John was tired of playing with numpy\n",
    "data = np.genfromtxt(\"hlist_1.00000.names\", names=True, dtype=None)\n",
    "\n",
    "# print out all columns we just got for free\n",
    "data.dtype"
   ]
  },
  {
   "cell_type": "code",
   "execution_count": null,
   "metadata": {},
   "outputs": [],
   "source": [
    "# how do we use the new data?\n",
    "# data[name], e.g. 'mvir', 'vmax', 2 columns we used last time\n",
    "print(data['mvir'])"
   ]
  },
  {
   "cell_type": "code",
   "execution_count": null,
   "metadata": {
    "collapsed": true
   },
   "outputs": [],
   "source": [
    "# make the log/log scatter plot of mvir vs vmax from the last time\n",
    "\n"
   ]
  },
  {
   "cell_type": "code",
   "execution_count": null,
   "metadata": {},
   "outputs": [],
   "source": [
    "# that one is pretty dense, is there a better way to visualize that?\n",
    "fig = plt.figure(figsize=(15,10))\n",
    "\n",
    "ax = fig.add_subplot(111)\n",
    "\n",
    "# hexbin \n",
    "# https://matplotlib.org/api/_as_gen/matplotlib.pyplot.hexbin.html\n",
    "# we're starting with log-log since we know it doesn't look good in linear\n",
    "# but feel free to play around with a linear scale...\n",
    "ax.hexbin(data['mvir'], data['vmax'], xscale='log', yscale='log')\n",
    "\n",
    "plt.show()"
   ]
  },
  {
   "cell_type": "code",
   "execution_count": null,
   "metadata": {},
   "outputs": [],
   "source": [
    "# lets clean it up a bit\n",
    "# You should play around with the various parameters to get a feel for what they do.\n",
    "# Also play around with the color bar and make it your own, for an extra challenge figure out how to invert the color scheme\n",
    "fig = plt.figure(figsize=(15,10))\n",
    "\n",
    "ax = fig.add_subplot(111)\n",
    "\n",
    "\n",
    "# the default colormap is pretty lame, lets specify a cmap. google for others\n",
    "# we're also not seeing a lot of range in the data, lets make the bins log\n",
    "# bins can be None, 'log', or a few others things that are hard to deal with, again: google\n",
    "# we can also play with the gridsize. Try values from 10 to 200 and see what happens. Try a 1000 if you like... \n",
    "image = ax.hexbin(data['mvir'], data['vmax'], gridsize=50, xscale='log', yscale='log', cmap=\"jet\", bins='log')\n",
    "\n",
    "plt.show()"
   ]
  },
  {
   "cell_type": "code",
   "execution_count": null,
   "metadata": {
    "collapsed": true
   },
   "outputs": [],
   "source": [
    "# now: add a colorbar and labels, and make all the text readable\n",
    "# add colorbar, add labels, make ticks large enough\n",
    "# get this plot ready for publication\n",
    "# get rid of the white space around the outside of the image"
   ]
  },
  {
   "cell_type": "code",
   "execution_count": null,
   "metadata": {},
   "outputs": [],
   "source": [
    "# lets get some more data\n",
    "# notice I've added the delimiter keyword argument, \n",
    "# if you don't include this numpy thinks everything is text\n",
    "cluster = np.genfromtxt(\"m67_cleaned.txt\", names=True, dtype=None, delimiter=',')\n",
    "\n",
    "cluster.dtype"
   ]
  },
  {
   "cell_type": "code",
   "execution_count": null,
   "metadata": {},
   "outputs": [],
   "source": [
    "# I want to know what my cluster data looks like, lets split it up to useful bits\n",
    "# we're going to create a boolean array based on a condition, in this case a flag\n",
    "# we can select a subset of a np.array in this way\n",
    "\n",
    "member_cut = cluster['mem'] == b' Y'\n",
    "print(member_cut)\n",
    "members = cluster[member_cut]\n",
    "non_members = cluster[~member_cut]\n",
    "\n",
    "# lets see how much it changed\n",
    "print(len(cluster), len(members), len(non_members))"
   ]
  },
  {
   "cell_type": "code",
   "execution_count": null,
   "metadata": {},
   "outputs": [],
   "source": [
    "# now we can see what the data look like\n",
    "\n",
    "fig = plt.figure(figsize=(10,7))\n",
    "\n",
    "ax = fig.add_subplot(111)\n",
    "\n",
    "ax.hist(members['g'])\n",
    "\n",
    "plt.show()"
   ]
  },
  {
   "cell_type": "code",
   "execution_count": null,
   "metadata": {},
   "outputs": [],
   "source": [
    "# that's not great...\n",
    "# lets work on that.\n",
    "\n",
    "fig = plt.figure(figsize=(10,7))\n",
    "\n",
    "ax = fig.add_subplot(111)\n",
    "\n",
    "ax.hist(members['g'], edgecolor='black')\n",
    "\n",
    "ax.set_xlabel(\"g magnitude\",size=20)\n",
    "ax.set_ylabel(\"N\",size=20)\n",
    "\n",
    "plt.show()"
   ]
  },
  {
   "cell_type": "code",
   "execution_count": null,
   "metadata": {},
   "outputs": [],
   "source": [
    "# cool. How does that compare to the non-members?\n",
    "\n",
    "fig = plt.figure(figsize=(10,7))\n",
    "\n",
    "ax = fig.add_subplot(111)\n",
    "\n",
    "ax.hist(non_members['g'], edgecolor='black')\n",
    "ax.hist(members['g'], edgecolor='black')\n",
    "\n",
    "\n",
    "ax.set_xlabel(\"g magnitude\",size=20)\n",
    "ax.set_ylabel(\"N\",size=20)\n",
    "\n",
    "plt.show()"
   ]
  },
  {
   "cell_type": "code",
   "execution_count": null,
   "metadata": {},
   "outputs": [],
   "source": [
    "# hmm way more non-members, that's not ideal\n",
    "# and the bins don't align at all! how painful\n",
    "\n",
    "fig = plt.figure(figsize=(10,7))\n",
    "\n",
    "ax = fig.add_subplot(111)\n",
    "\n",
    "bins = np.arange(6, 20, 0.5)\n",
    "\n",
    "ax.hist(non_members['g'], edgecolor='black', bins=bins, log=True)\n",
    "ax.hist(members['g'], edgecolor='black', bins=bins, log=True)\n",
    "\n",
    "ax.set_xlabel(\"g magnitude\",size=20)\n",
    "ax.set_ylabel(\"N\",size=20)\n",
    "\n",
    "plt.show()"
   ]
  },
  {
   "cell_type": "code",
   "execution_count": null,
   "metadata": {},
   "outputs": [],
   "source": [
    "# much better\n",
    "# But they look kind of stacked\n",
    "\n",
    "fig = plt.figure(figsize=(10,7))\n",
    "\n",
    "ax = fig.add_subplot(111)\n",
    "\n",
    "bins = np.arange(6, 20, 0.5)\n",
    "\n",
    "ax.hist(non_members['g'], edgecolor='black', bins=bins, log=True)\n",
    "ax.hist(members['g'], edgecolor='black', bins=bins, log=True, alpha=0.7)\n",
    "\n",
    "ax.set_xlabel(\"g magnitude\",size=20)\n",
    "ax.set_ylabel(\"N\",size=20)\n",
    "\n",
    "plt.show()"
   ]
  },
  {
   "cell_type": "code",
   "execution_count": null,
   "metadata": {},
   "outputs": [],
   "source": [
    "# now make a histogram of magnitude, with 3 color groups\n",
    "# 'bprp' is color, split up the data as bprp < 1, 1 < bprp< 2, 2 < bprp\n",
    "# use alpha appropriately so we can see all the data!"
   ]
  },
  {
   "cell_type": "code",
   "execution_count": null,
   "metadata": {
    "collapsed": true
   },
   "outputs": [],
   "source": []
  }
 ],
 "metadata": {
  "kernelspec": {
   "display_name": "Python 3",
   "language": "python",
   "name": "python3"
  },
  "language_info": {
   "codemirror_mode": {
    "name": "ipython",
    "version": 3
   },
   "file_extension": ".py",
   "mimetype": "text/x-python",
   "name": "python",
   "nbconvert_exporter": "python",
   "pygments_lexer": "ipython3",
   "version": "3.6.0"
  }
 },
 "nbformat": 4,
 "nbformat_minor": 2
}
