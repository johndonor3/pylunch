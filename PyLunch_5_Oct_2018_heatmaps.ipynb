{
 "cells": [
  {
   "cell_type": "code",
   "execution_count": null,
   "metadata": {
    "collapsed": true
   },
   "outputs": [],
   "source": [
    "from matplotlib import pyplot as plt\n",
    "from mpl_toolkits.mplot3d import Axes3D\n",
    "import numpy as np"
   ]
  },
  {
   "cell_type": "code",
   "execution_count": null,
   "metadata": {},
   "outputs": [],
   "source": [
    "# names=True means expect column names as the first line\n",
    "# dtype=None means let numpy figure out the dataype\n",
    "# notice in the new file all the comments were taken out\n",
    "# the comments were confusing numpy, they may also have been removed with a \n",
    "# skiplines keyword, but John was tired of playing with numpy\n",
    "data = np.genfromtxt(\"hlist_1.00000.names\", names=True, dtype=None)\n",
    "\n",
    "data.dtype"
   ]
  },
  {
   "cell_type": "code",
   "execution_count": null,
   "metadata": {},
   "outputs": [],
   "source": [
    "# make the log/log scatter plot of mvir vs vmax from the last time\n",
    "\n"
   ]
  },
  {
   "cell_type": "code",
   "execution_count": null,
   "metadata": {},
   "outputs": [],
   "source": [
    "# that one are is pretty dense, is there a better way to visualize that?\n",
    "fig = plt.figure(figsize=(15,10))\n",
    "\n",
    "ax = fig.add_subplot(111)\n",
    "\n",
    "# hexbin \n",
    "# https://matplotlib.org/api/_as_gen/matplotlib.pyplot.hexbin.html\n",
    "# we're starting with log-log since we know it doesn't look good in linear\n",
    "ax.hexbin(data['mvir'], data['vmax'], xscale='log', yscale='log')\n",
    "\n",
    "plt.show()"
   ]
  },
  {
   "cell_type": "code",
   "execution_count": null,
   "metadata": {},
   "outputs": [],
   "source": [
    "# lets clean it up a bit\n",
    "fig = plt.figure(figsize=(15,10))\n",
    "\n",
    "ax = fig.add_subplot(111)\n",
    "\n",
    "image = ax.hexbin(data['mvir'], data['vmax'], cmap=\"jet\", bins='log', gridsize=50, xscale='log', yscale='log')\n",
    "\n",
    "plt.show()"
   ]
  },
  {
   "cell_type": "code",
   "execution_count": null,
   "metadata": {},
   "outputs": [],
   "source": [
    "# Changing the size of the plot\n",
    "# now: add a colorbar and labels, and make all the text readable\n",
    "# get this plot ready for publication"
   ]
  },
  {
   "cell_type": "code",
   "execution_count": null,
   "metadata": {
    "collapsed": true
   },
   "outputs": [],
   "source": [
    "# add colorbar, add labels, make ticks large enough"
   ]
  }
 ],
 "metadata": {
  "kernelspec": {
   "display_name": "Python 3",
   "language": "python",
   "name": "python3"
  },
  "language_info": {
   "codemirror_mode": {
    "name": "ipython",
    "version": 3
   },
   "file_extension": ".py",
   "mimetype": "text/x-python",
   "name": "python",
   "nbconvert_exporter": "python",
   "pygments_lexer": "ipython3",
   "version": "3.6.0"
  }
 },
 "nbformat": 4,
 "nbformat_minor": 2
}
